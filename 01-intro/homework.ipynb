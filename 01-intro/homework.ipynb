{
 "cells": [
  {
   "cell_type": "code",
   "execution_count": 1,
   "id": "02410148-0ac7-41a1-bd70-bcf5000efeb4",
   "metadata": {},
   "outputs": [],
   "source": [
    "import openai"
   ]
  },
  {
   "cell_type": "code",
   "execution_count": 2,
   "id": "0fa4aa1c-3061-4327-bced-40fb5743616b",
   "metadata": {},
   "outputs": [],
   "source": [
    "from openai import OpenAI"
   ]
  },
  {
   "cell_type": "code",
   "execution_count": null,
   "id": "aafef40a-50ca-4c39-a07b-fc87da7bd531",
   "metadata": {},
   "outputs": [],
   "source": [
    "client = OpenAI()"
   ]
  },
  {
   "cell_type": "code",
   "execution_count": 4,
   "id": "c7a386c8-5e08-4bb9-bf2e-6f8f9b6ddeac",
   "metadata": {},
   "outputs": [],
   "source": [
    "import os"
   ]
  },
  {
   "cell_type": "code",
   "execution_count": 7,
   "id": "a577405f-6b2b-4029-8354-c3ae380227c4",
   "metadata": {},
   "outputs": [],
   "source": [
    "response = client.chat.completions.create(\n",
    "    model='gpt-4o',\n",
    "    messages=[{\"role\": \"user\", \"content\": \"is it too late to start my diet plan?\"}]\n",
    ")"
   ]
  },
  {
   "cell_type": "code",
   "execution_count": 11,
   "id": "00dde1b5-b4fe-408b-b33c-b9c999122947",
   "metadata": {},
   "outputs": [
    {
     "data": {
      "text/plain": [
       "\"It's never too late to start a diet plan! Starting a healthy eating regimen can be beneficial at any time. Here are a few tips to help you get started:\\n\\n1. **Set Realistic Goals**: Begin with small, achievable goals to avoid feeling overwhelmed.\\n\\n2. **Plan Your Meals**: Preparing your meals in advance can help you stay on track and make healthier choices.\\n\\n3. **Stay Hydrated**: Drinking plenty of water can aid digestion and help manage hunger.\\n\\n4. **Seek Professional Help**: Consider consulting a nutritionist or dietitian for personalized guidance.\\n\\n5. **Be Patient**: Change takes time, so be patient with yourself and celebrate small victories along the way.\\n\\nRemember, the best time to start is now, and every small step towards healthier habits counts!\""
      ]
     },
     "execution_count": 11,
     "metadata": {},
     "output_type": "execute_result"
    }
   ],
   "source": [
    "response.choices[0].message.content"
   ]
  },
  {
   "cell_type": "code",
   "execution_count": null,
   "id": "f74c525c-13ae-4816-aee1-ddeeca8fa952",
   "metadata": {},
   "outputs": [],
   "source": []
  }
 ],
 "metadata": {
  "kernelspec": {
   "display_name": "Python 3 (ipykernel)",
   "language": "python",
   "name": "python3"
  },
  "language_info": {
   "codemirror_mode": {
    "name": "ipython",
    "version": 3
   },
   "file_extension": ".py",
   "mimetype": "text/x-python",
   "name": "python",
   "nbconvert_exporter": "python",
   "pygments_lexer": "ipython3",
   "version": "3.12.1"
  }
 },
 "nbformat": 4,
 "nbformat_minor": 5
}
